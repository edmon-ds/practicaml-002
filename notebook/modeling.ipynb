{
 "cells": [
  {
   "cell_type": "markdown",
   "id": "b2174556-4cfa-488a-a6bf-cca05c9a5a44",
   "metadata": {},
   "source": [
    "### Life cicle of machine learning project \n",
    "\n",
    "data analisys\n",
    "\n",
    "- Understand the problem statement\n",
    "- Data Collection\n",
    "- Data checks to perform\n",
    "- Exploratory data analysis\n",
    "\n",
    "modeling development\n",
    "\n",
    "- Understand the problem statement\n",
    "- Data Collection\n",
    "- Data preprocesing\n",
    "- Feature Enginering\n",
    "- Model training\n",
    "- Choose best model\n",
    "\n",
    "model deploying\n",
    "- structure the code in modular programming\n",
    "- configure the docker image to make code deployable\n",
    "- deploy the model in aws\n"
   ]
  },
  {
   "cell_type": "markdown",
   "id": "02bc704a-4569-42c2-a687-29153450a6fc",
   "metadata": {},
   "source": [
    "### 1.0 problem statement\n",
    "A company X has employees, and the company keeps data such as their education level, the city they belong to, their age, and other information. The company has been tracking and has recorded which employees have left the company. The company wants to create a program that, based on an employee's data, predicts how likely it is that the employee will leave the company. Therefore, they have hired you to do this job"
   ]
  },
  {
   "cell_type": "markdown",
   "id": "cd324965-14eb-4090-a99e-c0fb43ec6a08",
   "metadata": {},
   "source": [
    "### 2.0 Data Collection"
   ]
  },
  {
   "cell_type": "markdown",
   "id": "0fa80392-8769-453c-81f0-9ed0cf337c67",
   "metadata": {},
   "source": [
    "#### library to use"
   ]
  },
  {
   "cell_type": "code",
   "execution_count": 20,
   "id": "a6e004b5-8717-4a9d-af5d-3cec5efa9436",
   "metadata": {},
   "outputs": [],
   "source": [
    "from sqlalchemy import create_engine\n",
    "import pandas as pd\n",
    "import seaborn as sb\n",
    "import matplotlib.pyplot as plt\n",
    "\n",
    "from sklearn.compose import ColumnTransformer\n",
    "from sklearn.pipeline import Pipeline\n",
    "from sklearn.model_selection import train_test_split\n",
    "from sklearn.impute import SimpleImputer\n",
    "from sklearn.preprocessing import OneHotEncoder\n",
    "from sklearn.preprocessing import StandardScaler\n",
    "\n",
    "from xgboost import XGBClassifier\n",
    "from sklearn.ensemble import AdaBoostClassifier\n",
    "from sklearn.linear_model import LogisticRegression\n",
    "\n",
    "from sklearn.metrics import accuracy_score\n",
    "from sklearn.metrics import precision_score\n",
    "from sklearn.metrics import recall_score\n",
    "from sklearn.metrics import roc_auc_score"
   ]
  },
  {
   "cell_type": "markdown",
   "id": "2fe243ac-4bdb-4ca7-a95e-5a5ab38e50be",
   "metadata": {},
   "source": [
    "#### 2.2 Data Extraction from database"
   ]
  },
  {
   "cell_type": "code",
   "execution_count": 3,
   "id": "305ac536-c51f-4c9c-84bc-2517fb9f879e",
   "metadata": {},
   "outputs": [],
   "source": [
    "driver = \"ODBC+Driver+17+for+SQL+Server\"\n",
    "server_name = \"localhost\"\n",
    "database = \"BDdatasets\"\n",
    "UID = \"sa\"\n",
    "PWD = \"0440\"\n",
    "\n",
    "connection_string = f\"mssql+pyodbc://{UID}:{PWD}@{server_name}/{database}?driver={driver}\"\n",
    "\n",
    "engine = create_engine(connection_string)\n",
    "\n",
    "query = \"SELECT * FROM Employees\"\n",
    "\n",
    "df = pd.read_sql_query(query , engine)"
   ]
  },
  {
   "cell_type": "markdown",
   "id": "2ba1eb72-468b-4ae9-a2e1-41fc8bf1f18b",
   "metadata": {},
   "source": [
    "#### 2.3 show top 5 records"
   ]
  },
  {
   "cell_type": "code",
   "execution_count": 5,
   "id": "168e2714-b901-4fe4-881e-7bc1e0ff5f9c",
   "metadata": {},
   "outputs": [
    {
     "data": {
      "text/html": [
       "<div>\n",
       "<style scoped>\n",
       "    .dataframe tbody tr th:only-of-type {\n",
       "        vertical-align: middle;\n",
       "    }\n",
       "\n",
       "    .dataframe tbody tr th {\n",
       "        vertical-align: top;\n",
       "    }\n",
       "\n",
       "    .dataframe thead th {\n",
       "        text-align: right;\n",
       "    }\n",
       "</style>\n",
       "<table border=\"1\" class=\"dataframe\">\n",
       "  <thead>\n",
       "    <tr style=\"text-align: right;\">\n",
       "      <th></th>\n",
       "      <th>Education</th>\n",
       "      <th>JoiningYear</th>\n",
       "      <th>City</th>\n",
       "      <th>PaymentTier</th>\n",
       "      <th>Age</th>\n",
       "      <th>Gender</th>\n",
       "      <th>EverBenched</th>\n",
       "      <th>ExperienceInCurrentDomain</th>\n",
       "      <th>LeaveOrNot</th>\n",
       "    </tr>\n",
       "  </thead>\n",
       "  <tbody>\n",
       "    <tr>\n",
       "      <th>0</th>\n",
       "      <td>Bachelors</td>\n",
       "      <td>2017</td>\n",
       "      <td>Bangalore</td>\n",
       "      <td>3</td>\n",
       "      <td>34</td>\n",
       "      <td>Male</td>\n",
       "      <td>No</td>\n",
       "      <td>0</td>\n",
       "      <td>False</td>\n",
       "    </tr>\n",
       "    <tr>\n",
       "      <th>1</th>\n",
       "      <td>Bachelors</td>\n",
       "      <td>2013</td>\n",
       "      <td>Pune</td>\n",
       "      <td>1</td>\n",
       "      <td>28</td>\n",
       "      <td>Female</td>\n",
       "      <td>No</td>\n",
       "      <td>3</td>\n",
       "      <td>True</td>\n",
       "    </tr>\n",
       "    <tr>\n",
       "      <th>2</th>\n",
       "      <td>Bachelors</td>\n",
       "      <td>2014</td>\n",
       "      <td>New Delhi</td>\n",
       "      <td>3</td>\n",
       "      <td>38</td>\n",
       "      <td>Female</td>\n",
       "      <td>No</td>\n",
       "      <td>2</td>\n",
       "      <td>False</td>\n",
       "    </tr>\n",
       "    <tr>\n",
       "      <th>3</th>\n",
       "      <td>Masters</td>\n",
       "      <td>2016</td>\n",
       "      <td>Bangalore</td>\n",
       "      <td>3</td>\n",
       "      <td>27</td>\n",
       "      <td>Male</td>\n",
       "      <td>No</td>\n",
       "      <td>5</td>\n",
       "      <td>True</td>\n",
       "    </tr>\n",
       "    <tr>\n",
       "      <th>4</th>\n",
       "      <td>Masters</td>\n",
       "      <td>2017</td>\n",
       "      <td>Pune</td>\n",
       "      <td>3</td>\n",
       "      <td>24</td>\n",
       "      <td>Male</td>\n",
       "      <td>Yes</td>\n",
       "      <td>2</td>\n",
       "      <td>True</td>\n",
       "    </tr>\n",
       "  </tbody>\n",
       "</table>\n",
       "</div>"
      ],
      "text/plain": [
       "   Education  JoiningYear       City  PaymentTier  Age  Gender EverBenched  \\\n",
       "0  Bachelors         2017  Bangalore            3   34    Male          No   \n",
       "1  Bachelors         2013       Pune            1   28  Female          No   \n",
       "2  Bachelors         2014  New Delhi            3   38  Female          No   \n",
       "3    Masters         2016  Bangalore            3   27    Male          No   \n",
       "4    Masters         2017       Pune            3   24    Male         Yes   \n",
       "\n",
       "   ExperienceInCurrentDomain  LeaveOrNot  \n",
       "0                          0       False  \n",
       "1                          3        True  \n",
       "2                          2       False  \n",
       "3                          5        True  \n",
       "4                          2        True  "
      ]
     },
     "execution_count": 5,
     "metadata": {},
     "output_type": "execute_result"
    }
   ],
   "source": [
    "df.head(5)"
   ]
  },
  {
   "cell_type": "markdown",
   "id": "6055a41a-93f4-4f2a-b16e-f9b24a4f793e",
   "metadata": {},
   "source": [
    "#### 2.4 check dataset info"
   ]
  },
  {
   "cell_type": "code",
   "execution_count": 6,
   "id": "c08da2d2-b41a-4a42-942f-9a41f846c649",
   "metadata": {},
   "outputs": [
    {
     "name": "stdout",
     "output_type": "stream",
     "text": [
      "<class 'pandas.core.frame.DataFrame'>\n",
      "RangeIndex: 4653 entries, 0 to 4652\n",
      "Data columns (total 9 columns):\n",
      " #   Column                     Non-Null Count  Dtype \n",
      "---  ------                     --------------  ----- \n",
      " 0   Education                  4653 non-null   object\n",
      " 1   JoiningYear                4653 non-null   int64 \n",
      " 2   City                       4653 non-null   object\n",
      " 3   PaymentTier                4653 non-null   int64 \n",
      " 4   Age                        4653 non-null   int64 \n",
      " 5   Gender                     4653 non-null   object\n",
      " 6   EverBenched                4653 non-null   object\n",
      " 7   ExperienceInCurrentDomain  4653 non-null   int64 \n",
      " 8   LeaveOrNot                 4653 non-null   bool  \n",
      "dtypes: bool(1), int64(4), object(4)\n",
      "memory usage: 295.5+ KB\n"
     ]
    }
   ],
   "source": [
    "df.info()"
   ]
  },
  {
   "cell_type": "markdown",
   "id": "74bf2969-fd25-45f3-89b2-6ccd883bf7a3",
   "metadata": {},
   "source": [
    "### 3.0 data preprocessing "
   ]
  },
  {
   "cell_type": "markdown",
   "id": "49ff8e26-fa39-4216-b8bd-1dc3ca9fe37a",
   "metadata": {},
   "source": [
    "#### 3.1 preparing X and y"
   ]
  },
  {
   "cell_type": "code",
   "execution_count": 13,
   "id": "cae20992-f333-4ead-8a98-71c72a4e653f",
   "metadata": {},
   "outputs": [],
   "source": [
    "X = df.drop(columns = [\"LeaveOrNot\"])\n",
    "y = df[\"LeaveOrNot\"]"
   ]
  },
  {
   "cell_type": "markdown",
   "id": "568c16bb-3d46-494b-a02a-88cc00871494",
   "metadata": {},
   "source": [
    "#### 3.2 creating the preprocessor "
   ]
  },
  {
   "cell_type": "code",
   "execution_count": 27,
   "id": "356eaed1-037c-4e23-bdf1-b16b0af293b0",
   "metadata": {},
   "outputs": [],
   "source": [
    "numerical_features = [feature for feature in X.columns if df[feature].dtype != \"O\"]\n",
    "categorical_features = [feature for feature in X.columns if df[feature].dtype == \"O\"]\n",
    "\n",
    "num_pipeline = Pipeline(\n",
    "    steps = [\n",
    "        (\"imputer\" , SimpleImputer(strategy= \"mean\") ) , \n",
    "        (\"scaler\" ,StandardScaler() )\n",
    "            ]\n",
    ")\n",
    "\n",
    "cat_pipeline  = Pipeline(\n",
    "    steps = [\n",
    "        (\"imputer\" , SimpleImputer(strategy = \"most_frequent\")) , \n",
    "        (\"one_hot_encoder\" , OneHotEncoder())\n",
    "    ]\n",
    ")\n",
    "\n",
    "preprocessor = ColumnTransformer(\n",
    "    [\n",
    "        (\"num_pipeline\" , num_pipeline ,numerical_features ) , \n",
    "        (\"cat_pipeline\"  , cat_pipeline , categorical_features)\n",
    "    ]\n",
    ")"
   ]
  },
  {
   "cell_type": "markdown",
   "id": "d0004cf8-9deb-42a0-9a5a-4ab0dd28e0fe",
   "metadata": {},
   "source": [
    "#### 3.3 preprocessing features"
   ]
  },
  {
   "cell_type": "code",
   "execution_count": 28,
   "id": "05d091c5-db3a-4409-a617-ce70a640aaf4",
   "metadata": {},
   "outputs": [],
   "source": [
    "X = preprocessor.fit_transform(X)"
   ]
  },
  {
   "cell_type": "code",
   "execution_count": 29,
   "id": "671efa10-77c7-4541-8438-50827cd116c7",
   "metadata": {},
   "outputs": [
    {
     "data": {
      "text/plain": [
       "(4653, 14)"
      ]
     },
     "execution_count": 29,
     "metadata": {},
     "output_type": "execute_result"
    }
   ],
   "source": [
    "X.shape"
   ]
  },
  {
   "cell_type": "markdown",
   "id": "2a85cfc1-96d3-44f2-9ae0-b43f5a2cc66e",
   "metadata": {},
   "source": [
    "#### 3.4 dividing the dataset in train test"
   ]
  },
  {
   "cell_type": "code",
   "execution_count": 30,
   "id": "6ebe66f3-26fc-442c-a7fe-05bcab66900a",
   "metadata": {},
   "outputs": [
    {
     "data": {
      "text/plain": [
       "((3722, 14), (931, 14))"
      ]
     },
     "execution_count": 30,
     "metadata": {},
     "output_type": "execute_result"
    }
   ],
   "source": [
    "X_train , X_test , y_train , y_test =   train_test_split(X , y , test_size = 0.2 , random_state = 42)\n",
    "X_train.shape , X_test.shape"
   ]
  },
  {
   "cell_type": "markdown",
   "id": "c49a5480-914d-4911-b1ec-f7596da8739a",
   "metadata": {},
   "source": [
    "#### 4.0 model training "
   ]
  },
  {
   "cell_type": "markdown",
   "id": "29b119cf-a8e5-4011-a780-99fcb13183f9",
   "metadata": {},
   "source": [
    "#### 4.1 creating a function for get the metrics"
   ]
  },
  {
   "cell_type": "code",
   "execution_count": 31,
   "id": "3bc72ce8-c546-4c5d-80ae-2544e0723999",
   "metadata": {},
   "outputs": [],
   "source": [
    "def evaluate_model(y_true , y_pred):\n",
    "    accuracy = accuracy_score(y_true , y_pred)\n",
    "    precision = precision_score(y_true , y_pred)\n",
    "    recall = recall_score(y_true , y_pred)\n",
    "    roc_score = roc_auc_score(y_true , y_pred)\n",
    "    return ( accuracy, precision ,recall , roc_score)"
   ]
  },
  {
   "cell_type": "markdown",
   "id": "74d680c8-dbca-4d66-a957-391040b56ccb",
   "metadata": {},
   "source": [
    "#### 4.1 training varios models"
   ]
  },
  {
   "cell_type": "code",
   "execution_count": 35,
   "id": "7746cf32-4473-4602-ab31-e77ca87240a6",
   "metadata": {},
   "outputs": [
    {
     "name": "stdout",
     "output_type": "stream",
     "text": [
      "model : XGBClassifier\n",
      "Model perfomance for training set\n",
      "accuracy score : 0.8981730252552391\n",
      "precision score : 0.9385964912280702\n",
      "recall score : 0.7529319781078968\n",
      "roc score : 0.8635720062459254\n",
      "-----------------------------------\n",
      "Model perfomance for test set\n",
      "accuracy score : 0.8625134264232008\n",
      "precision score : 0.8614232209737828\n",
      "recall score : 0.7165109034267912\n",
      "roc score : 0.8279275828609366\n",
      "===================================\n",
      "\n",
      "\n",
      "\n"
     ]
    },
    {
     "name": "stderr",
     "output_type": "stream",
     "text": [
      "C:\\Users\\edwin\\.conda\\envs\\venv\\lib\\site-packages\\sklearn\\ensemble\\_weight_boosting.py:527: FutureWarning: The SAMME.R algorithm (the default) is deprecated and will be removed in 1.6. Use the SAMME algorithm to circumvent this warning.\n",
      "  warnings.warn(\n"
     ]
    },
    {
     "name": "stdout",
     "output_type": "stream",
     "text": [
      "model : AdaBoostClassifier\n",
      "Model perfomance for training set\n",
      "accuracy score : 0.7960773777538958\n",
      "precision score : 0.8066037735849056\n",
      "recall score : 0.5347928068803753\n",
      "roc score : 0.7338311148605724\n",
      "-----------------------------------\n",
      "Model perfomance for test set\n",
      "accuracy score : 0.8141783029001074\n",
      "precision score : 0.8303571428571429\n",
      "recall score : 0.5794392523364486\n",
      "roc score : 0.7585720851846176\n",
      "===================================\n",
      "\n",
      "\n",
      "\n",
      "model : LogisticRegression\n",
      "Model perfomance for training set\n",
      "accuracy score : 0.7364320257925846\n",
      "precision score : 0.6965699208443272\n",
      "recall score : 0.41282251759186867\n",
      "roc score : 0.6593379882269617\n",
      "-----------------------------------\n",
      "Model perfomance for test set\n",
      "accuracy score : 0.7432867883995704\n",
      "precision score : 0.7091836734693877\n",
      "recall score : 0.43302180685358255\n",
      "roc score : 0.6697895919513814\n",
      "===================================\n",
      "\n",
      "\n",
      "\n"
     ]
    }
   ],
   "source": [
    "models = {\n",
    "    \"XGBClassifier\":XGBClassifier() , \n",
    "    \"AdaBoostClassifier\":AdaBoostClassifier() ,\n",
    "    \"LogisticRegression\":LogisticRegression()\n",
    "}\n",
    "\n",
    "model_and_score = []\n",
    "\n",
    "for model_name , model in models.items():\n",
    "    model.fit(X_train , y_train)\n",
    "    y_pred_train = model.predict(X_train)\n",
    "    y_pred_test = model.predict(X_test)\n",
    "\n",
    "    accuracy_train, precision_train ,recall_train , roc_score_train = evaluate_model(y_train , y_pred_train)\n",
    "    accuracy_test, precision_test ,recall_test , roc_score_test = evaluate_model(y_test , y_pred_test)\n",
    "\n",
    "    print(f\"model : {model_name}\")\n",
    "    print(\"Model perfomance for training set\")\n",
    "    print(f\"accuracy score : {accuracy_train}\")\n",
    "    print(f\"precision score : {precision_train}\")\n",
    "    print(f\"recall score : {recall_train}\")\n",
    "    print(f\"roc score : {roc_score_train}\")\n",
    "    print(f\"-\"*35)\n",
    "    print(\"Model perfomance for test set\")\n",
    "    print(f\"accuracy score : {accuracy_test}\")\n",
    "    print(f\"precision score : {precision_test}\")\n",
    "    print(f\"recall score : {recall_test}\")\n",
    "    print(f\"roc score : {roc_score_test}\")\n",
    "    print(f\"=\"*35)\n",
    "    print(\"\\n\\n\")\n",
    "    model_and_score.append({\"model name\": model_name , \"accuracy score\": accuracy_test, \"precision score\":precision_test ,  \"recall score\" : recall_test ,  \"roc score\": roc_score_test })\n",
    "    "
   ]
  },
  {
   "cell_type": "markdown",
   "id": "bd54c95c-1006-40e3-8c4d-dc2a325b4c04",
   "metadata": {},
   "source": [
    "#### 5.0 choose the best model"
   ]
  },
  {
   "cell_type": "code",
   "execution_count": 41,
   "id": "6b9ee9ba-96fb-4fb3-b837-a761402e4c42",
   "metadata": {},
   "outputs": [
    {
     "data": {
      "text/html": [
       "<div>\n",
       "<style scoped>\n",
       "    .dataframe tbody tr th:only-of-type {\n",
       "        vertical-align: middle;\n",
       "    }\n",
       "\n",
       "    .dataframe tbody tr th {\n",
       "        vertical-align: top;\n",
       "    }\n",
       "\n",
       "    .dataframe thead th {\n",
       "        text-align: right;\n",
       "    }\n",
       "</style>\n",
       "<table border=\"1\" class=\"dataframe\">\n",
       "  <thead>\n",
       "    <tr style=\"text-align: right;\">\n",
       "      <th></th>\n",
       "      <th>model name</th>\n",
       "      <th>accuracy score</th>\n",
       "      <th>precision score</th>\n",
       "      <th>recall score</th>\n",
       "      <th>roc score</th>\n",
       "    </tr>\n",
       "  </thead>\n",
       "  <tbody>\n",
       "    <tr>\n",
       "      <th>0</th>\n",
       "      <td>XGBClassifier</td>\n",
       "      <td>0.862513</td>\n",
       "      <td>0.861423</td>\n",
       "      <td>0.716511</td>\n",
       "      <td>0.827928</td>\n",
       "    </tr>\n",
       "    <tr>\n",
       "      <th>1</th>\n",
       "      <td>AdaBoostClassifier</td>\n",
       "      <td>0.814178</td>\n",
       "      <td>0.830357</td>\n",
       "      <td>0.579439</td>\n",
       "      <td>0.758572</td>\n",
       "    </tr>\n",
       "    <tr>\n",
       "      <th>2</th>\n",
       "      <td>LogisticRegression</td>\n",
       "      <td>0.743287</td>\n",
       "      <td>0.709184</td>\n",
       "      <td>0.433022</td>\n",
       "      <td>0.669790</td>\n",
       "    </tr>\n",
       "  </tbody>\n",
       "</table>\n",
       "</div>"
      ],
      "text/plain": [
       "           model name  accuracy score  precision score  recall score  \\\n",
       "0       XGBClassifier        0.862513         0.861423      0.716511   \n",
       "1  AdaBoostClassifier        0.814178         0.830357      0.579439   \n",
       "2  LogisticRegression        0.743287         0.709184      0.433022   \n",
       "\n",
       "   roc score  \n",
       "0   0.827928  \n",
       "1   0.758572  \n",
       "2   0.669790  "
      ]
     },
     "execution_count": 41,
     "metadata": {},
     "output_type": "execute_result"
    }
   ],
   "source": [
    "df_models_and_scores = pd.DataFrame(model_and_score ).sort_values(by = \"roc score\" , ascending = False)\n",
    "df_models_and_scores"
   ]
  },
  {
   "cell_type": "code",
   "execution_count": 45,
   "id": "b890c1f4-9516-4867-8711-854e56a9f845",
   "metadata": {},
   "outputs": [
    {
     "data": {
      "text/plain": [
       "2"
      ]
     },
     "execution_count": 45,
     "metadata": {},
     "output_type": "execute_result"
    }
   ],
   "source": [
    "df_models_and_scores[\"recall score\"].idxmin()"
   ]
  },
  {
   "cell_type": "markdown",
   "id": "18277859-d271-4beb-bc29-814b0bb14122",
   "metadata": {},
   "source": [
    "# end of modeling"
   ]
  }
 ],
 "metadata": {
  "kernelspec": {
   "display_name": "Python 3 (ipykernel)",
   "language": "python",
   "name": "python3"
  },
  "language_info": {
   "codemirror_mode": {
    "name": "ipython",
    "version": 3
   },
   "file_extension": ".py",
   "mimetype": "text/x-python",
   "name": "python",
   "nbconvert_exporter": "python",
   "pygments_lexer": "ipython3",
   "version": "3.10.15"
  }
 },
 "nbformat": 4,
 "nbformat_minor": 5
}
