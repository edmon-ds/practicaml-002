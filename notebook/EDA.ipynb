{
 "cells": [
  {
   "cell_type": "markdown",
   "id": "d129eac7-1aa0-453d-ae0b-b1fb17bdbe82",
   "metadata": {
    "jp-MarkdownHeadingCollapsed": true
   },
   "source": [
    "### Life cicle of machine learning project \n",
    "\n",
    "data analisys\n",
    "\n",
    "- Understand the problem statement\n",
    "- Data Collection\n",
    "- Data checks to perform\n",
    "- Exploratory data analysis\n",
    "\n",
    "modeling development\n",
    "\n",
    "- Understand the problem statement\n",
    "- Data Collection\n",
    "- Data preprocesing\n",
    "- Feature Enginering\n",
    "- Model training\n",
    "- Choose best model\n",
    "\n",
    "model deploying\n",
    "- structure the code in modular programming\n",
    "- configure the docker image to make code deployable\n",
    "-deploy the model in aws\n"
   ]
  },
  {
   "cell_type": "markdown",
   "id": "69f21201-e484-45c8-a47b-00c342b6517e",
   "metadata": {
    "jp-MarkdownHeadingCollapsed": true
   },
   "source": [
    "### 1.0 problem statement\n",
    "A company X has employees, and the company keeps data such as their education level, the city they belong to, their age, and other information. The company has been tracking and has recorded which employees have left the company. The company wants to create a program that, based on an employee's data, predicts how likely it is that the employee will leave the company. Therefore, they have hired you to do this job"
   ]
  },
  {
   "cell_type": "markdown",
   "id": "de411ccf-3ea6-4362-9b42-668e7f66f290",
   "metadata": {},
   "source": [
    "# 2.0 Data Collection"
   ]
  },
  {
   "cell_type": "markdown",
   "id": "57246883-03c5-4233-9788-ed707c697376",
   "metadata": {},
   "source": [
    "### 2.1 library to use"
   ]
  },
  {
   "cell_type": "code",
   "execution_count": 4,
   "id": "386f8c43-de1a-4215-9f43-d2b7bdb27797",
   "metadata": {},
   "outputs": [],
   "source": [
    "from sqlalchemy import create_engine\n",
    "import pandas as pd\n",
    "import seaborn as sns \n",
    "import matplotlib.pyplot as plt"
   ]
  },
  {
   "cell_type": "markdown",
   "id": "b59017cd-50bf-41da-b247-35eeaf4163e9",
   "metadata": {},
   "source": [
    "### 2.2 Data extraction from database "
   ]
  },
  {
   "cell_type": "code",
   "execution_count": 97,
   "id": "ac4d7e85-85cc-4c07-a43c-963e0d887c46",
   "metadata": {},
   "outputs": [],
   "source": [
    "driver = \"ODBC+Driver+17+for+SQL+Server\"\n",
    "server_name = \"localhost\"\n",
    "database = \"BDdatasets\"\n",
    "UID = \"sa\"\n",
    "PWD = \"0440\"\n",
    "\n",
    "connection_string = f\"mssql+pyodbc://{UID}:{PWD}@{server_name}/{database}?driver={driver}\"\n",
    "\n",
    "engine = create_engine(connection_string)\n",
    "\n",
    "query = \"SELECT * FROM Employees\"\n",
    "\n",
    "df = pd.read_sql_query(query , engine)"
   ]
  },
  {
   "cell_type": "markdown",
   "id": "ee25f95b-591b-4a2f-b23c-3e07344eafaa",
   "metadata": {},
   "source": [
    "### 2.3 shot top 5 records"
   ]
  },
  {
   "cell_type": "code",
   "execution_count": 2,
   "id": "bb9f0ac2-540b-45dd-9d90-c198e7cb5a5e",
   "metadata": {
    "scrolled": true
   },
   "outputs": [
    {
     "ename": "NameError",
     "evalue": "name 'df' is not defined",
     "output_type": "error",
     "traceback": [
      "\u001b[1;31m---------------------------------------------------------------------------\u001b[0m",
      "\u001b[1;31mNameError\u001b[0m                                 Traceback (most recent call last)",
      "Cell \u001b[1;32mIn[2], line 1\u001b[0m\n\u001b[1;32m----> 1\u001b[0m \u001b[43mdf\u001b[49m\u001b[38;5;241m.\u001b[39mhead()\n",
      "\u001b[1;31mNameError\u001b[0m: name 'df' is not defined"
     ]
    }
   ],
   "source": [
    "df.head()"
   ]
  },
  {
   "cell_type": "markdown",
   "id": "bc1f90ad-aab0-4bf4-914d-3732c15994c9",
   "metadata": {},
   "source": [
    "### 2.4 shape of the dataset"
   ]
  },
  {
   "cell_type": "code",
   "execution_count": 99,
   "id": "2b3a8706-42b6-446f-8922-6bbc476be827",
   "metadata": {},
   "outputs": [
    {
     "data": {
      "text/plain": [
       "(4653, 9)"
      ]
     },
     "execution_count": 99,
     "metadata": {},
     "output_type": "execute_result"
    }
   ],
   "source": [
    "df.shape"
   ]
  },
  {
   "cell_type": "markdown",
   "id": "6a06586b-b9b9-49f3-a8d6-bcfd553b7cd1",
   "metadata": {},
   "source": [
    "### 2.5 dataset informatation"
   ]
  },
  {
   "cell_type": "markdown",
   "id": "4dcb8617-1fc7-47af-985e-4fbe97c39ba6",
   "metadata": {},
   "source": [
    "Education: the education level of the employee\n",
    "JoiningYear: the year when employee joined to the company\n",
    "City: the city where belong\n",
    "PaymentTier: the level of payment\n",
    "Age: the age of the employee\n",
    "Gender: the gender of employee\n",
    "EverBenched: if employee has been without proyect asignement\n",
    "ExperienceInCurrentDomain: year of experience\n",
    "\n",
    "LeaveOrNot: leave or not the company (label)"
   ]
  },
  {
   "cell_type": "markdown",
   "id": "e4b14ee6-852e-4a55-8a46-626f602be1ff",
   "metadata": {},
   "source": [
    "# 3.0 data check perform"
   ]
  },
  {
   "cell_type": "markdown",
   "id": "8410f8ce-866f-4568-a334-7937ff7c690b",
   "metadata": {},
   "source": [
    "- check missing values\n",
    "- drop nulls if is necesary\n",
    "- check duplicates\n",
    "- check data types \n",
    "- check the number of unique values of eache column\n",
    "- check statistic in the dataset\n",
    "- check varios categories present in different categorical columns"
   ]
  },
  {
   "cell_type": "markdown",
   "id": "334a747f-36ec-462b-b9c0-dfc531e53452",
   "metadata": {},
   "source": [
    "### 3.1 check missing values"
   ]
  },
  {
   "cell_type": "code",
   "execution_count": 100,
   "id": "04a192b9-e730-4629-8877-650737fc980b",
   "metadata": {},
   "outputs": [
    {
     "data": {
      "text/plain": [
       "Education                    0\n",
       "JoiningYear                  0\n",
       "City                         0\n",
       "PaymentTier                  0\n",
       "Age                          0\n",
       "Gender                       0\n",
       "EverBenched                  0\n",
       "ExperienceInCurrentDomain    0\n",
       "LeaveOrNot                   0\n",
       "dtype: int64"
      ]
     },
     "execution_count": 100,
     "metadata": {},
     "output_type": "execute_result"
    }
   ],
   "source": [
    "df.isnull().sum()"
   ]
  },
  {
   "cell_type": "markdown",
   "id": "13edc13f-e758-482d-97bf-3488b6fdce6b",
   "metadata": {},
   "source": [
    "#### insighs: the is not null values in the dataset"
   ]
  },
  {
   "cell_type": "markdown",
   "id": "49b65a08-1553-434e-bd95-a44f8100eb46",
   "metadata": {},
   "source": [
    "### 3.2 drop na values"
   ]
  },
  {
   "cell_type": "code",
   "execution_count": 101,
   "id": "1019b603-95fb-4a3f-a9ac-86987b00776a",
   "metadata": {},
   "outputs": [],
   "source": [
    "df = df.dropna()"
   ]
  },
  {
   "cell_type": "markdown",
   "id": "eda35ebd-6bf8-4b08-8e1a-804aabf4904e",
   "metadata": {},
   "source": [
    "### 3.3 check if there are duplicate values"
   ]
  },
  {
   "cell_type": "code",
   "execution_count": 102,
   "id": "07663ecb-b85d-4768-bf5f-65b31ebaa0ad",
   "metadata": {},
   "outputs": [
    {
     "data": {
      "text/plain": [
       "np.int64(1889)"
      ]
     },
     "execution_count": 102,
     "metadata": {},
     "output_type": "execute_result"
    }
   ],
   "source": [
    "df.duplicated().sum()"
   ]
  },
  {
   "cell_type": "code",
   "execution_count": 103,
   "id": "41bf3d12-f3f2-44be-8a4e-9a5e12e1a108",
   "metadata": {},
   "outputs": [
    {
     "data": {
      "text/html": [
       "<div>\n",
       "<style scoped>\n",
       "    .dataframe tbody tr th:only-of-type {\n",
       "        vertical-align: middle;\n",
       "    }\n",
       "\n",
       "    .dataframe tbody tr th {\n",
       "        vertical-align: top;\n",
       "    }\n",
       "\n",
       "    .dataframe thead th {\n",
       "        text-align: right;\n",
       "    }\n",
       "</style>\n",
       "<table border=\"1\" class=\"dataframe\">\n",
       "  <thead>\n",
       "    <tr style=\"text-align: right;\">\n",
       "      <th></th>\n",
       "      <th>Education</th>\n",
       "      <th>JoiningYear</th>\n",
       "      <th>City</th>\n",
       "      <th>PaymentTier</th>\n",
       "      <th>Age</th>\n",
       "      <th>Gender</th>\n",
       "      <th>EverBenched</th>\n",
       "      <th>ExperienceInCurrentDomain</th>\n",
       "      <th>LeaveOrNot</th>\n",
       "    </tr>\n",
       "  </thead>\n",
       "  <tbody>\n",
       "    <tr>\n",
       "      <th>111</th>\n",
       "      <td>Bachelors</td>\n",
       "      <td>2017</td>\n",
       "      <td>Pune</td>\n",
       "      <td>2</td>\n",
       "      <td>27</td>\n",
       "      <td>Female</td>\n",
       "      <td>No</td>\n",
       "      <td>5</td>\n",
       "      <td>True</td>\n",
       "    </tr>\n",
       "    <tr>\n",
       "      <th>130</th>\n",
       "      <td>Bachelors</td>\n",
       "      <td>2017</td>\n",
       "      <td>Bangalore</td>\n",
       "      <td>3</td>\n",
       "      <td>26</td>\n",
       "      <td>Female</td>\n",
       "      <td>No</td>\n",
       "      <td>4</td>\n",
       "      <td>False</td>\n",
       "    </tr>\n",
       "    <tr>\n",
       "      <th>138</th>\n",
       "      <td>Bachelors</td>\n",
       "      <td>2017</td>\n",
       "      <td>New Delhi</td>\n",
       "      <td>3</td>\n",
       "      <td>28</td>\n",
       "      <td>Male</td>\n",
       "      <td>No</td>\n",
       "      <td>2</td>\n",
       "      <td>False</td>\n",
       "    </tr>\n",
       "    <tr>\n",
       "      <th>160</th>\n",
       "      <td>Bachelors</td>\n",
       "      <td>2014</td>\n",
       "      <td>Bangalore</td>\n",
       "      <td>3</td>\n",
       "      <td>28</td>\n",
       "      <td>Female</td>\n",
       "      <td>No</td>\n",
       "      <td>3</td>\n",
       "      <td>False</td>\n",
       "    </tr>\n",
       "    <tr>\n",
       "      <th>167</th>\n",
       "      <td>Bachelors</td>\n",
       "      <td>2014</td>\n",
       "      <td>Bangalore</td>\n",
       "      <td>3</td>\n",
       "      <td>25</td>\n",
       "      <td>Male</td>\n",
       "      <td>No</td>\n",
       "      <td>3</td>\n",
       "      <td>False</td>\n",
       "    </tr>\n",
       "    <tr>\n",
       "      <th>174</th>\n",
       "      <td>Bachelors</td>\n",
       "      <td>2013</td>\n",
       "      <td>Bangalore</td>\n",
       "      <td>3</td>\n",
       "      <td>26</td>\n",
       "      <td>Male</td>\n",
       "      <td>No</td>\n",
       "      <td>4</td>\n",
       "      <td>False</td>\n",
       "    </tr>\n",
       "    <tr>\n",
       "      <th>175</th>\n",
       "      <td>Bachelors</td>\n",
       "      <td>2016</td>\n",
       "      <td>Bangalore</td>\n",
       "      <td>3</td>\n",
       "      <td>26</td>\n",
       "      <td>Male</td>\n",
       "      <td>No</td>\n",
       "      <td>4</td>\n",
       "      <td>False</td>\n",
       "    </tr>\n",
       "    <tr>\n",
       "      <th>176</th>\n",
       "      <td>Bachelors</td>\n",
       "      <td>2012</td>\n",
       "      <td>Bangalore</td>\n",
       "      <td>3</td>\n",
       "      <td>25</td>\n",
       "      <td>Male</td>\n",
       "      <td>No</td>\n",
       "      <td>3</td>\n",
       "      <td>False</td>\n",
       "    </tr>\n",
       "    <tr>\n",
       "      <th>177</th>\n",
       "      <td>Bachelors</td>\n",
       "      <td>2015</td>\n",
       "      <td>Bangalore</td>\n",
       "      <td>3</td>\n",
       "      <td>25</td>\n",
       "      <td>Male</td>\n",
       "      <td>No</td>\n",
       "      <td>3</td>\n",
       "      <td>False</td>\n",
       "    </tr>\n",
       "    <tr>\n",
       "      <th>181</th>\n",
       "      <td>Bachelors</td>\n",
       "      <td>2015</td>\n",
       "      <td>Pune</td>\n",
       "      <td>3</td>\n",
       "      <td>27</td>\n",
       "      <td>Male</td>\n",
       "      <td>No</td>\n",
       "      <td>5</td>\n",
       "      <td>False</td>\n",
       "    </tr>\n",
       "  </tbody>\n",
       "</table>\n",
       "</div>"
      ],
      "text/plain": [
       "     Education  JoiningYear       City  PaymentTier  Age  Gender EverBenched  \\\n",
       "111  Bachelors         2017       Pune            2   27  Female          No   \n",
       "130  Bachelors         2017  Bangalore            3   26  Female          No   \n",
       "138  Bachelors         2017  New Delhi            3   28    Male          No   \n",
       "160  Bachelors         2014  Bangalore            3   28  Female          No   \n",
       "167  Bachelors         2014  Bangalore            3   25    Male          No   \n",
       "174  Bachelors         2013  Bangalore            3   26    Male          No   \n",
       "175  Bachelors         2016  Bangalore            3   26    Male          No   \n",
       "176  Bachelors         2012  Bangalore            3   25    Male          No   \n",
       "177  Bachelors         2015  Bangalore            3   25    Male          No   \n",
       "181  Bachelors         2015       Pune            3   27    Male          No   \n",
       "\n",
       "     ExperienceInCurrentDomain  LeaveOrNot  \n",
       "111                          5        True  \n",
       "130                          4       False  \n",
       "138                          2       False  \n",
       "160                          3       False  \n",
       "167                          3       False  \n",
       "174                          4       False  \n",
       "175                          4       False  \n",
       "176                          3       False  \n",
       "177                          3       False  \n",
       "181                          5       False  "
      ]
     },
     "execution_count": 103,
     "metadata": {},
     "output_type": "execute_result"
    }
   ],
   "source": [
    "df[df.duplicated()].head(10)"
   ]
  },
  {
   "cell_type": "markdown",
   "id": "1b8a82ca-22fd-43b8-8791-2d67693b0bee",
   "metadata": {},
   "source": [
    "#### insights: \n",
    "the truth is the dataset no container rows duplicated, what happens some employees have similar features,  and that is completely normal for a business"
   ]
  },
  {
   "cell_type": "markdown",
   "id": "bd83852c-2ecb-47c5-ab6b-65654c871007",
   "metadata": {},
   "source": [
    "### 3.4 check data types "
   ]
  },
  {
   "cell_type": "markdown",
   "id": "a4212d3b-9140-485b-a2f3-63988190e297",
   "metadata": {},
   "source": [
    "#### 3.4.1 check data tipes without apply transformation"
   ]
  },
  {
   "cell_type": "code",
   "execution_count": 104,
   "id": "c0a6aa5c-45c7-48d6-8259-c16c1df2b911",
   "metadata": {},
   "outputs": [
    {
     "name": "stdout",
     "output_type": "stream",
     "text": [
      "<class 'pandas.core.frame.DataFrame'>\n",
      "RangeIndex: 4653 entries, 0 to 4652\n",
      "Data columns (total 9 columns):\n",
      " #   Column                     Non-Null Count  Dtype \n",
      "---  ------                     --------------  ----- \n",
      " 0   Education                  4653 non-null   object\n",
      " 1   JoiningYear                4653 non-null   int64 \n",
      " 2   City                       4653 non-null   object\n",
      " 3   PaymentTier                4653 non-null   int64 \n",
      " 4   Age                        4653 non-null   int64 \n",
      " 5   Gender                     4653 non-null   object\n",
      " 6   EverBenched                4653 non-null   object\n",
      " 7   ExperienceInCurrentDomain  4653 non-null   int64 \n",
      " 8   LeaveOrNot                 4653 non-null   bool  \n",
      "dtypes: bool(1), int64(4), object(4)\n",
      "memory usage: 295.5+ KB\n"
     ]
    }
   ],
   "source": [
    "df.info()"
   ]
  },
  {
   "cell_type": "markdown",
   "id": "e7a4a8e9-ca92-481a-8c71-73da0ef84d9b",
   "metadata": {},
   "source": [
    "#### 3.4.2 convert bool to int"
   ]
  },
  {
   "cell_type": "code",
   "execution_count": 105,
   "id": "4521b92a-04dd-406e-aa2d-b91a5418d090",
   "metadata": {},
   "outputs": [],
   "source": [
    "df[\"LeaveOrNot\"] = df[\"LeaveOrNot\"].astype(int)"
   ]
  },
  {
   "cell_type": "code",
   "execution_count": 106,
   "id": "6d463c06-c62d-4a02-9e46-d2d9d633c88c",
   "metadata": {},
   "outputs": [
    {
     "name": "stdout",
     "output_type": "stream",
     "text": [
      "<class 'pandas.core.frame.DataFrame'>\n",
      "RangeIndex: 4653 entries, 0 to 4652\n",
      "Data columns (total 9 columns):\n",
      " #   Column                     Non-Null Count  Dtype \n",
      "---  ------                     --------------  ----- \n",
      " 0   Education                  4653 non-null   object\n",
      " 1   JoiningYear                4653 non-null   int64 \n",
      " 2   City                       4653 non-null   object\n",
      " 3   PaymentTier                4653 non-null   int64 \n",
      " 4   Age                        4653 non-null   int64 \n",
      " 5   Gender                     4653 non-null   object\n",
      " 6   EverBenched                4653 non-null   object\n",
      " 7   ExperienceInCurrentDomain  4653 non-null   int64 \n",
      " 8   LeaveOrNot                 4653 non-null   int64 \n",
      "dtypes: int64(5), object(4)\n",
      "memory usage: 327.3+ KB\n"
     ]
    }
   ],
   "source": [
    "df.info()"
   ]
  },
  {
   "cell_type": "markdown",
   "id": "b5519679-5ec1-4f8f-8363-86188128db33",
   "metadata": {},
   "source": [
    "#### 3.4.1 convert bool to int "
   ]
  },
  {
   "cell_type": "code",
   "execution_count": 62,
   "id": "08af3b3c-ee0a-4c5b-aa00-12578cddb5ff",
   "metadata": {},
   "outputs": [],
   "source": [
    "df[\"LeaveOrNot\"] = df[\"LeaveOrNot\"].astype(int)"
   ]
  },
  {
   "cell_type": "code",
   "execution_count": 59,
   "id": "eb2a9a86-828c-43a1-9230-4cd17f51bb1f",
   "metadata": {},
   "outputs": [
    {
     "name": "stdout",
     "output_type": "stream",
     "text": [
      "<class 'pandas.core.frame.DataFrame'>\n",
      "RangeIndex: 4653 entries, 0 to 4652\n",
      "Data columns (total 9 columns):\n",
      " #   Column                     Non-Null Count  Dtype \n",
      "---  ------                     --------------  ----- \n",
      " 0   Education                  4653 non-null   object\n",
      " 1   JoiningYear                4653 non-null   int64 \n",
      " 2   City                       4653 non-null   object\n",
      " 3   PaymentTier                4653 non-null   int64 \n",
      " 4   Age                        4653 non-null   int64 \n",
      " 5   Gender                     4653 non-null   object\n",
      " 6   EverBenched                4653 non-null   object\n",
      " 7   ExperienceInCurrentDomain  4653 non-null   int64 \n",
      " 8   LeaveOrNot                 4653 non-null   int64 \n",
      "dtypes: int64(5), object(4)\n",
      "memory usage: 327.3+ KB\n"
     ]
    }
   ],
   "source": [
    "df.info()"
   ]
  },
  {
   "cell_type": "markdown",
   "id": "9b2786cf-1980-4e41-b1c9-37549c8d5f5a",
   "metadata": {},
   "source": [
    "### 3.5 check the numbers unique of values of each columns"
   ]
  },
  {
   "cell_type": "code",
   "execution_count": 107,
   "id": "08a325ce-36de-49f1-8cd5-f33c1c83586e",
   "metadata": {},
   "outputs": [
    {
     "data": {
      "text/plain": [
       "Education                     3\n",
       "JoiningYear                   7\n",
       "City                          3\n",
       "PaymentTier                   3\n",
       "Age                          20\n",
       "Gender                        2\n",
       "EverBenched                   2\n",
       "ExperienceInCurrentDomain     8\n",
       "LeaveOrNot                    2\n",
       "dtype: int64"
      ]
     },
     "execution_count": 107,
     "metadata": {},
     "output_type": "execute_result"
    }
   ],
   "source": [
    "df.nunique()"
   ]
  },
  {
   "cell_type": "markdown",
   "id": "c457a05e-f0a4-4cd0-b79d-85e9a54c36d9",
   "metadata": {},
   "source": [
    "### 3.6 check statistics of the dataset"
   ]
  },
  {
   "cell_type": "code",
   "execution_count": 108,
   "id": "2253ac58-6f35-4be2-a56f-ddc6cb142b3a",
   "metadata": {},
   "outputs": [
    {
     "data": {
      "text/html": [
       "<div>\n",
       "<style scoped>\n",
       "    .dataframe tbody tr th:only-of-type {\n",
       "        vertical-align: middle;\n",
       "    }\n",
       "\n",
       "    .dataframe tbody tr th {\n",
       "        vertical-align: top;\n",
       "    }\n",
       "\n",
       "    .dataframe thead th {\n",
       "        text-align: right;\n",
       "    }\n",
       "</style>\n",
       "<table border=\"1\" class=\"dataframe\">\n",
       "  <thead>\n",
       "    <tr style=\"text-align: right;\">\n",
       "      <th></th>\n",
       "      <th>JoiningYear</th>\n",
       "      <th>PaymentTier</th>\n",
       "      <th>Age</th>\n",
       "      <th>ExperienceInCurrentDomain</th>\n",
       "      <th>LeaveOrNot</th>\n",
       "    </tr>\n",
       "  </thead>\n",
       "  <tbody>\n",
       "    <tr>\n",
       "      <th>count</th>\n",
       "      <td>4653.000000</td>\n",
       "      <td>4653.000000</td>\n",
       "      <td>4653.000000</td>\n",
       "      <td>4653.000000</td>\n",
       "      <td>4653.000000</td>\n",
       "    </tr>\n",
       "    <tr>\n",
       "      <th>mean</th>\n",
       "      <td>2015.062970</td>\n",
       "      <td>2.698259</td>\n",
       "      <td>29.393295</td>\n",
       "      <td>2.905652</td>\n",
       "      <td>0.343864</td>\n",
       "    </tr>\n",
       "    <tr>\n",
       "      <th>std</th>\n",
       "      <td>1.863377</td>\n",
       "      <td>0.561435</td>\n",
       "      <td>4.826087</td>\n",
       "      <td>1.558240</td>\n",
       "      <td>0.475047</td>\n",
       "    </tr>\n",
       "    <tr>\n",
       "      <th>min</th>\n",
       "      <td>2012.000000</td>\n",
       "      <td>1.000000</td>\n",
       "      <td>22.000000</td>\n",
       "      <td>0.000000</td>\n",
       "      <td>0.000000</td>\n",
       "    </tr>\n",
       "    <tr>\n",
       "      <th>25%</th>\n",
       "      <td>2013.000000</td>\n",
       "      <td>3.000000</td>\n",
       "      <td>26.000000</td>\n",
       "      <td>2.000000</td>\n",
       "      <td>0.000000</td>\n",
       "    </tr>\n",
       "    <tr>\n",
       "      <th>50%</th>\n",
       "      <td>2015.000000</td>\n",
       "      <td>3.000000</td>\n",
       "      <td>28.000000</td>\n",
       "      <td>3.000000</td>\n",
       "      <td>0.000000</td>\n",
       "    </tr>\n",
       "    <tr>\n",
       "      <th>75%</th>\n",
       "      <td>2017.000000</td>\n",
       "      <td>3.000000</td>\n",
       "      <td>32.000000</td>\n",
       "      <td>4.000000</td>\n",
       "      <td>1.000000</td>\n",
       "    </tr>\n",
       "    <tr>\n",
       "      <th>max</th>\n",
       "      <td>2018.000000</td>\n",
       "      <td>3.000000</td>\n",
       "      <td>41.000000</td>\n",
       "      <td>7.000000</td>\n",
       "      <td>1.000000</td>\n",
       "    </tr>\n",
       "  </tbody>\n",
       "</table>\n",
       "</div>"
      ],
      "text/plain": [
       "       JoiningYear  PaymentTier          Age  ExperienceInCurrentDomain  \\\n",
       "count  4653.000000  4653.000000  4653.000000                4653.000000   \n",
       "mean   2015.062970     2.698259    29.393295                   2.905652   \n",
       "std       1.863377     0.561435     4.826087                   1.558240   \n",
       "min    2012.000000     1.000000    22.000000                   0.000000   \n",
       "25%    2013.000000     3.000000    26.000000                   2.000000   \n",
       "50%    2015.000000     3.000000    28.000000                   3.000000   \n",
       "75%    2017.000000     3.000000    32.000000                   4.000000   \n",
       "max    2018.000000     3.000000    41.000000                   7.000000   \n",
       "\n",
       "        LeaveOrNot  \n",
       "count  4653.000000  \n",
       "mean      0.343864  \n",
       "std       0.475047  \n",
       "min       0.000000  \n",
       "25%       0.000000  \n",
       "50%       0.000000  \n",
       "75%       1.000000  \n",
       "max       1.000000  "
      ]
     },
     "execution_count": 108,
     "metadata": {},
     "output_type": "execute_result"
    }
   ],
   "source": [
    "df.describe()"
   ]
  },
  {
   "cell_type": "markdown",
   "id": "55ef16a7-c518-4863-9b43-e69c2fe2b7a6",
   "metadata": {},
   "source": [
    "#### insights\n",
    "- the std is lower for the most of the numerical columns \n",
    "- the columns are in diferents scales"
   ]
  },
  {
   "cell_type": "markdown",
   "id": "dc429405-2c9b-4a63-a1e7-b0892c4a4e93",
   "metadata": {},
   "source": [
    "### check the varios categories in the datasets"
   ]
  },
  {
   "cell_type": "code",
   "execution_count": 109,
   "id": "f68047d6-28e1-4c43-9a75-378636422ca0",
   "metadata": {},
   "outputs": [
    {
     "data": {
      "text/html": [
       "<div>\n",
       "<style scoped>\n",
       "    .dataframe tbody tr th:only-of-type {\n",
       "        vertical-align: middle;\n",
       "    }\n",
       "\n",
       "    .dataframe tbody tr th {\n",
       "        vertical-align: top;\n",
       "    }\n",
       "\n",
       "    .dataframe thead th {\n",
       "        text-align: right;\n",
       "    }\n",
       "</style>\n",
       "<table border=\"1\" class=\"dataframe\">\n",
       "  <thead>\n",
       "    <tr style=\"text-align: right;\">\n",
       "      <th></th>\n",
       "      <th>Education</th>\n",
       "      <th>JoiningYear</th>\n",
       "      <th>City</th>\n",
       "      <th>PaymentTier</th>\n",
       "      <th>Age</th>\n",
       "      <th>Gender</th>\n",
       "      <th>EverBenched</th>\n",
       "      <th>ExperienceInCurrentDomain</th>\n",
       "      <th>LeaveOrNot</th>\n",
       "    </tr>\n",
       "  </thead>\n",
       "  <tbody>\n",
       "    <tr>\n",
       "      <th>0</th>\n",
       "      <td>Bachelors</td>\n",
       "      <td>2017</td>\n",
       "      <td>Bangalore</td>\n",
       "      <td>3</td>\n",
       "      <td>34</td>\n",
       "      <td>Male</td>\n",
       "      <td>No</td>\n",
       "      <td>0</td>\n",
       "      <td>0</td>\n",
       "    </tr>\n",
       "    <tr>\n",
       "      <th>1</th>\n",
       "      <td>Bachelors</td>\n",
       "      <td>2013</td>\n",
       "      <td>Pune</td>\n",
       "      <td>1</td>\n",
       "      <td>28</td>\n",
       "      <td>Female</td>\n",
       "      <td>No</td>\n",
       "      <td>3</td>\n",
       "      <td>1</td>\n",
       "    </tr>\n",
       "    <tr>\n",
       "      <th>2</th>\n",
       "      <td>Bachelors</td>\n",
       "      <td>2014</td>\n",
       "      <td>New Delhi</td>\n",
       "      <td>3</td>\n",
       "      <td>38</td>\n",
       "      <td>Female</td>\n",
       "      <td>No</td>\n",
       "      <td>2</td>\n",
       "      <td>0</td>\n",
       "    </tr>\n",
       "  </tbody>\n",
       "</table>\n",
       "</div>"
      ],
      "text/plain": [
       "   Education  JoiningYear       City  PaymentTier  Age  Gender EverBenched  \\\n",
       "0  Bachelors         2017  Bangalore            3   34    Male          No   \n",
       "1  Bachelors         2013       Pune            1   28  Female          No   \n",
       "2  Bachelors         2014  New Delhi            3   38  Female          No   \n",
       "\n",
       "   ExperienceInCurrentDomain  LeaveOrNot  \n",
       "0                          0           0  \n",
       "1                          3           1  \n",
       "2                          2           0  "
      ]
     },
     "execution_count": 109,
     "metadata": {},
     "output_type": "execute_result"
    }
   ],
   "source": [
    "df.head(3)"
   ]
  },
  {
   "cell_type": "code",
   "execution_count": 111,
   "id": "65152524-06e1-4dae-8dc4-045a75ae79ee",
   "metadata": {},
   "outputs": [
    {
     "name": "stdout",
     "output_type": "stream",
     "text": [
      "columns and values\n",
      "\n",
      "column : Education\n",
      "values : ['Bachelors' 'Masters' 'PHD']\n",
      "\n",
      "column : City\n",
      "values : ['Bangalore' 'Pune' 'New Delhi']\n",
      "\n",
      "column : Gender\n",
      "values : ['Male' 'Female']\n",
      "\n",
      "column : EverBenched\n",
      "values : ['No' 'Yes']\n",
      "\n"
     ]
    }
   ],
   "source": [
    "df_cat = df.select_dtypes([\"object\"])\n",
    "print(\"columns and values\")\n",
    "print()\n",
    "for col in df_cat.columns:\n",
    "    values = df[col].unique()\n",
    "    print(f\"column : {col}\") \n",
    "    print(f\"values : {values}\")\n",
    "    print()"
   ]
  },
  {
   "cell_type": "code",
   "execution_count": 114,
   "id": "248ab398-12f0-46bc-bd34-f565bb97997b",
   "metadata": {},
   "outputs": [
    {
     "name": "stdout",
     "output_type": "stream",
     "text": [
      "we have 5 numerical_features : ['JoiningYear', 'PaymentTier', 'Age', 'ExperienceInCurrentDomain', 'LeaveOrNot']\n",
      "we have 4 categorical_features : ['Education', 'City', 'Gender', 'EverBenched']\n"
     ]
    }
   ],
   "source": [
    "numerical_features = [feature for feature in df.columns if df[feature].dtype!=\"O\" ] \n",
    "categorical_features = [feature for feature in df.columns if df[feature].dtype ==\"O\"]\n",
    "\n",
    "print(f\"we have {len(numerical_features)} numerical_features : {numerical_features}\")\n",
    "print(f\"we have {len(categorical_features)} categorical_features : {categorical_features}\")"
   ]
  },
  {
   "cell_type": "markdown",
   "id": "2fac00f4-b7ec-4d79-ab2a-c14350466301",
   "metadata": {},
   "source": [
    "### 4.0 exploratory data analysis"
   ]
  },
  {
   "cell_type": "markdown",
   "id": "1ccdaf51-e620-4f56-b64e-6261dd5e2938",
   "metadata": {},
   "source": [
    "#### visualize the data creating \n",
    "- pie char\n",
    "- histgram char\n",
    "- count bar group by\n",
    "- boxplot"
   ]
  },
  {
   "cell_type": "code",
   "execution_count": 118,
   "id": "960f5af2-f6c9-4151-b69c-e3a3c302d258",
   "metadata": {},
   "outputs": [
    {
     "data": {
      "text/html": [
       "<div>\n",
       "<style scoped>\n",
       "    .dataframe tbody tr th:only-of-type {\n",
       "        vertical-align: middle;\n",
       "    }\n",
       "\n",
       "    .dataframe tbody tr th {\n",
       "        vertical-align: top;\n",
       "    }\n",
       "\n",
       "    .dataframe thead th {\n",
       "        text-align: right;\n",
       "    }\n",
       "</style>\n",
       "<table border=\"1\" class=\"dataframe\">\n",
       "  <thead>\n",
       "    <tr style=\"text-align: right;\">\n",
       "      <th></th>\n",
       "      <th>Education</th>\n",
       "      <th>JoiningYear</th>\n",
       "      <th>City</th>\n",
       "      <th>PaymentTier</th>\n",
       "      <th>Age</th>\n",
       "      <th>Gender</th>\n",
       "      <th>EverBenched</th>\n",
       "      <th>ExperienceInCurrentDomain</th>\n",
       "      <th>LeaveOrNot</th>\n",
       "    </tr>\n",
       "  </thead>\n",
       "  <tbody>\n",
       "    <tr>\n",
       "      <th>0</th>\n",
       "      <td>Bachelors</td>\n",
       "      <td>2017</td>\n",
       "      <td>Bangalore</td>\n",
       "      <td>3</td>\n",
       "      <td>34</td>\n",
       "      <td>Male</td>\n",
       "      <td>No</td>\n",
       "      <td>0</td>\n",
       "      <td>0</td>\n",
       "    </tr>\n",
       "  </tbody>\n",
       "</table>\n",
       "</div>"
      ],
      "text/plain": [
       "   Education  JoiningYear       City  PaymentTier  Age Gender EverBenched  \\\n",
       "0  Bachelors         2017  Bangalore            3   34   Male          No   \n",
       "\n",
       "   ExperienceInCurrentDomain  LeaveOrNot  \n",
       "0                          0           0  "
      ]
     },
     "execution_count": 118,
     "metadata": {},
     "output_type": "execute_result"
    }
   ],
   "source": [
    "df.head(1)"
   ]
  },
  {
   "cell_type": "markdown",
   "id": "d9685275-6a02-42bf-b812-b6abf4de1cb2",
   "metadata": {},
   "source": [
    "### 4.1 pie char\n"
   ]
  },
  {
   "cell_type": "code",
   "execution_count": 192,
   "id": "98c8840e-5bda-4c4d-b812-dd18272918ac",
   "metadata": {},
   "outputs": [
    {
     "data": {
      "image/png": "[encoded data removed]",
      "text/plain": [
       "<Figure size 600x800 with 1 Axes>"
      ]
     },
     "metadata": {},
     "output_type": "display_data"
    }
   ],
   "source": [
    "#create a pie chat of education categories\n",
    "categories = df[\"Education\"].value_counts().index\n",
    "values = df[\"Education\"].value_counts()\n",
    "plt.figure(figsize = (6,8))\n",
    "plt.pie(values , labels = categories , autopct = \"%1.2f%%\" )\n",
    "plt.legend(categories ,loc =  \"upper right\")\n",
    "plt.title(\"Education\")\n",
    "plt.show()"
   ]
  },
  {
   "cell_type": "markdown",
   "id": "61c8e669-47b1-42c8-be54-415112718fdb",
   "metadata": {},
   "source": [
    "#### insights:\n",
    "- the most of the employees have bachelor degree\n",
    "- the number of phd degree is less than 5%"
   ]
  },
  {
   "cell_type": "code",
   "execution_count": 193,
   "id": "a6521951-9dab-400f-8810-ff5690fa48c1",
   "metadata": {},
   "outputs": [
    {
     "data": {
      "image/png": "[encoded data removed]",
      "text/plain": [
       "<Figure size 600x800 with 1 Axes>"
      ]
     },
     "metadata": {},
     "output_type": "display_data"
    }
   ],
   "source": [
    "values = df[\"City\"].value_counts()  \n",
    "categories = df[\"City\"].value_counts().index\n",
    "plt.figure(figsize=(6,8))\n",
    "plt.pie( values , labels =categories , autopct=\"%1.2f%%\")\n",
    "plt.legend(categories)\n",
    "plt.title(\"City\")\n",
    "plt.show()"
   ]
  },
  {
   "cell_type": "markdown",
   "id": "0db55706-2ff5-4c74-bf4a-2aa8fb2c2bf4",
   "metadata": {},
   "source": [
    "### insights\n",
    "- basically the 50% of the employees are from bangalore\n",
    "- the quantity of the other categories are almost the same, around 25%"
   ]
  },
  {
   "cell_type": "code",
   "execution_count": 194,
   "id": "85b41a3f-c682-44bc-be53-be312b3809b4",
   "metadata": {},
   "outputs": [
    {
     "data": {
      "image/png": "[encoded data removed]",
      "text/plain": [
       "<Figure size 600x800 with 1 Axes>"
      ]
     },
     "metadata": {},
     "output_type": "display_data"
    }
   ],
   "source": [
    "values = df[\"Gender\"].value_counts() \n",
    "categories = df[\"Gender\"].value_counts().index\n",
    "plt.figure(figsize = (6,8))\n",
    "plt.pie(values , labels = categories , autopct = \"%1.2f%%\" )\n",
    "plt.legend(categories)\n",
    "plt.title(\"Gender\")\n",
    "plt.show()"
   ]
  },
  {
   "cell_type": "markdown",
   "id": "e7b3e689-fd88-435d-ad6b-a10ac2c51da4",
   "metadata": {},
   "source": [
    "#### insights:\n",
    "- most of the employees are mens"
   ]
  },
  {
   "cell_type": "code",
   "execution_count": 195,
   "id": "8a909887-291a-47b9-98bb-cce727f40ef4",
   "metadata": {},
   "outputs": [
    {
     "data": {
      "image/png": "[encoded data removed]",
      "text/plain": [
       "<Figure size 600x800 with 1 Axes>"
      ]
     },
     "metadata": {},
     "output_type": "display_data"
    }
   ],
   "source": [
    "values = df[\"EverBenched\"].value_counts()\n",
    "categories = df[\"EverBenched\"].value_counts().index\n",
    "plt.figure(figsize=(6,8))\n",
    "plt.pie(values , labels = categories  , autopct = \"%1.2f%%\")\n",
    "plt.legend(categories)\n",
    "plt.title(\"EverBenched\")\n",
    "plt.show()"
   ]
  },
  {
   "cell_type": "markdown",
   "id": "30894b70-887b-4488-820c-7d4f998f5904",
   "metadata": {},
   "source": [
    "#### insights \n",
    "- the most of the employead 90% has EverBenched asigned to no"
   ]
  },
  {
   "cell_type": "markdown",
   "id": "929a9c0c-cca3-4ada-aa36-821e472d05dd",
   "metadata": {},
   "source": [
    "### 4.2 histogram char"
   ]
  },
  {
   "cell_type": "code",
   "execution_count": 198,
   "id": "69750ed4-212b-443c-9c7e-1a382b5d84d4",
   "metadata": {},
   "outputs": [
    {
     "data": {
      "image/png": "[encoded data removed]",
      "text/plain": [
       "<Figure size 640x480 with 1 Axes>"
      ]
     },
     "metadata": {},
     "output_type": "display_data"
    }
   ],
   "source": [
    "sns.histplot(data = df ,x = \"Age\" ,kde = True )\n",
    "plt.title(\"age distribution\")\n",
    "plt.show()"
   ]
  },
  {
   "cell_type": "markdown",
   "id": "2d7e1823-33de-463e-8022-160c48a2063a",
   "metadata": {},
   "source": [
    "### insight \n",
    "- most of the age employee are between 25 years and 28 years"
   ]
  },
  {
   "cell_type": "code",
   "execution_count": 201,
   "id": "1b10afc6-17f0-4b8b-a0f8-31c07f9d819e",
   "metadata": {},
   "outputs": [
    {
     "data": {
      "image/png": "[encoded data removed]",
      "text/plain": [
       "<Figure size 640x480 with 1 Axes>"
      ]
     },
     "metadata": {},
     "output_type": "display_data"
    }
   ],
   "source": [
    "sns.histplot(data = df , x = \"JoiningYear\" , kde = True)\n",
    "plt.title(\"JoiningYear distribution\")\n",
    "plt.show()"
   ]
  },
  {
   "cell_type": "markdown",
   "id": "00b99d4d-29c7-4a0a-adbb-634184e2a99c",
   "metadata": {},
   "source": [
    "#### insight\n",
    "- most of the employees were recluted in 2017"
   ]
  },
  {
   "cell_type": "markdown",
   "id": "4fb0ecbd-2909-46e9-90f0-84de4cf5f98e",
   "metadata": {},
   "source": [
    "### 4.3 count bar group by"
   ]
  },
  {
   "cell_type": "code",
   "execution_count": 225,
   "id": "3fff9c10-7165-44e2-bd28-3646618e1e67",
   "metadata": {},
   "outputs": [],
   "source": [
    "df_group_by_city = df.groupby(\"City\")[numerical_features].mean()"
   ]
  },
  {
   "cell_type": "code",
   "execution_count": 226,
   "id": "a40f7afd-ebb2-4891-95be-47d3eebb42be",
   "metadata": {},
   "outputs": [
    {
     "data": {
      "text/html": [
       "<div>\n",
       "<style scoped>\n",
       "    .dataframe tbody tr th:only-of-type {\n",
       "        vertical-align: middle;\n",
       "    }\n",
       "\n",
       "    .dataframe tbody tr th {\n",
       "        vertical-align: top;\n",
       "    }\n",
       "\n",
       "    .dataframe thead th {\n",
       "        text-align: right;\n",
       "    }\n",
       "</style>\n",
       "<table border=\"1\" class=\"dataframe\">\n",
       "  <thead>\n",
       "    <tr style=\"text-align: right;\">\n",
       "      <th></th>\n",
       "      <th>JoiningYear</th>\n",
       "      <th>PaymentTier</th>\n",
       "      <th>Age</th>\n",
       "      <th>ExperienceInCurrentDomain</th>\n",
       "      <th>LeaveOrNot</th>\n",
       "    </tr>\n",
       "    <tr>\n",
       "      <th>City</th>\n",
       "      <th></th>\n",
       "      <th></th>\n",
       "      <th></th>\n",
       "      <th></th>\n",
       "      <th></th>\n",
       "    </tr>\n",
       "  </thead>\n",
       "  <tbody>\n",
       "    <tr>\n",
       "      <th>Bangalore</th>\n",
       "      <td>2014.859515</td>\n",
       "      <td>2.870287</td>\n",
       "      <td>29.594255</td>\n",
       "      <td>2.924596</td>\n",
       "      <td>0.267056</td>\n",
       "    </tr>\n",
       "    <tr>\n",
       "      <th>New Delhi</th>\n",
       "      <td>2015.522040</td>\n",
       "      <td>2.598099</td>\n",
       "      <td>29.121003</td>\n",
       "      <td>2.885048</td>\n",
       "      <td>0.316335</td>\n",
       "    </tr>\n",
       "    <tr>\n",
       "      <th>Pune</th>\n",
       "      <td>2015.001577</td>\n",
       "      <td>2.487382</td>\n",
       "      <td>29.288644</td>\n",
       "      <td>2.891167</td>\n",
       "      <td>0.503943</td>\n",
       "    </tr>\n",
       "  </tbody>\n",
       "</table>\n",
       "</div>"
      ],
      "text/plain": [
       "           JoiningYear  PaymentTier        Age  ExperienceInCurrentDomain  \\\n",
       "City                                                                        \n",
       "Bangalore  2014.859515     2.870287  29.594255                   2.924596   \n",
       "New Delhi  2015.522040     2.598099  29.121003                   2.885048   \n",
       "Pune       2015.001577     2.487382  29.288644                   2.891167   \n",
       "\n",
       "           LeaveOrNot  \n",
       "City                   \n",
       "Bangalore    0.267056  \n",
       "New Delhi    0.316335  \n",
       "Pune         0.503943  "
      ]
     },
     "execution_count": 226,
     "metadata": {},
     "output_type": "execute_result"
    }
   ],
   "source": [
    "df_group_by_city"
   ]
  },
  {
   "cell_type": "code",
   "execution_count": 234,
   "id": "3d2faad2-3669-4b77-a9a3-19a93c77aeb8",
   "metadata": {},
   "outputs": [
    {
     "data": {
      "image/png": "[encoded data removed]",
      "text/plain": [
       "<Figure size 640x480 with 1 Axes>"
      ]
     },
     "metadata": {},
     "output_type": "display_data"
    }
   ],
   "source": [
    "df_group_by_city\n",
    "index = [ \"Bangalore\" , \"New Delhi\" , \"Pune\"]\n",
    "values = [ df_group_by_city.loc[\"Bangalore\"][\"LeaveOrNot\"] ,df_group_by_city.loc[\"New Delhi\"][\"LeaveOrNot\"] , df_group_by_city.loc[\"Pune\"][\"LeaveOrNot\"] ]\n",
    "plt.bar(index , values )\n",
    "plt.ylabel(\"mean of leave\")\n",
    "plt.show()"
   ]
  },
  {
   "cell_type": "markdown",
   "id": "32eadfd7-88ad-4737-8377-0c8926ba1b4b",
   "metadata": {},
   "source": [
    "#### insights\n",
    "- the 50% of employees that leave the company are from Pune"
   ]
  },
  {
   "cell_type": "code",
   "execution_count": 230,
   "id": "59833ce1-33b2-4330-88be-bd9ad7e43963",
   "metadata": {},
   "outputs": [
    {
     "data": {
      "text/plain": [
       "JoiningYear                  2015.050279\n",
       "PaymentTier                     2.731844\n",
       "Age                            29.296089\n",
       "ExperienceInCurrentDomain       2.910615\n",
       "LeaveOrNot                      0.251397\n",
       "Name: PHD, dtype: float64"
      ]
     },
     "execution_count": 230,
     "metadata": {},
     "output_type": "execute_result"
    }
   ],
   "source": [
    "df_group_by_education = df.groupby(\"Education\")[numerical_features].mean()\n",
    "df_group_by_education.loc[\"PHD\"]"
   ]
  },
  {
   "cell_type": "code",
   "execution_count": 240,
   "id": "78dbbec5-f4c1-44ac-8c16-9dc933161b21",
   "metadata": {},
   "outputs": [
    {
     "data": {
      "image/png": "[encoded data removed]",
      "text/plain": [
       "<Figure size 640x480 with 1 Axes>"
      ]
     },
     "metadata": {},
     "output_type": "display_data"
    }
   ],
   "source": [
    "index = [ \"Bachelors\" , \"Masters\" , \"PHD\"]\n",
    "values = [ df_group_by_education.loc[\"Bachelors\"][\"LeaveOrNot\"] ,df_group_by_education.loc[\"Masters\"][\"LeaveOrNot\"] , df_group_by_education.loc[\"PHD\"][\"LeaveOrNot\"] ]\n",
    "plt.bar(index , values )\n",
    "plt.ylabel(\"mean of leave\")\n",
    "plt.show()"
   ]
  },
  {
   "cell_type": "markdown",
   "id": "931ce0eb-47e3-44a8-923d-cfc52efe5ee0",
   "metadata": {},
   "source": [
    "#### insights\n",
    "- the employees with master leave more the company"
   ]
  },
  {
   "cell_type": "code",
   "execution_count": 239,
   "id": "3e6eb316-d458-4ecb-8c95-363e9cdfe5bf",
   "metadata": {},
   "outputs": [
    {
     "data": {
      "text/html": [
       "<div>\n",
       "<style scoped>\n",
       "    .dataframe tbody tr th:only-of-type {\n",
       "        vertical-align: middle;\n",
       "    }\n",
       "\n",
       "    .dataframe tbody tr th {\n",
       "        vertical-align: top;\n",
       "    }\n",
       "\n",
       "    .dataframe thead th {\n",
       "        text-align: right;\n",
       "    }\n",
       "</style>\n",
       "<table border=\"1\" class=\"dataframe\">\n",
       "  <thead>\n",
       "    <tr style=\"text-align: right;\">\n",
       "      <th></th>\n",
       "      <th>JoiningYear</th>\n",
       "      <th>PaymentTier</th>\n",
       "      <th>Age</th>\n",
       "      <th>ExperienceInCurrentDomain</th>\n",
       "      <th>LeaveOrNot</th>\n",
       "    </tr>\n",
       "    <tr>\n",
       "      <th>Gender</th>\n",
       "      <th></th>\n",
       "      <th></th>\n",
       "      <th></th>\n",
       "      <th></th>\n",
       "      <th></th>\n",
       "    </tr>\n",
       "  </thead>\n",
       "  <tbody>\n",
       "    <tr>\n",
       "      <th>Female</th>\n",
       "      <td>2015.090667</td>\n",
       "      <td>2.537600</td>\n",
       "      <td>29.41600</td>\n",
       "      <td>2.889067</td>\n",
       "      <td>0.471467</td>\n",
       "    </tr>\n",
       "    <tr>\n",
       "      <th>Male</th>\n",
       "      <td>2015.044276</td>\n",
       "      <td>2.806695</td>\n",
       "      <td>29.37797</td>\n",
       "      <td>2.916847</td>\n",
       "      <td>0.257739</td>\n",
       "    </tr>\n",
       "  </tbody>\n",
       "</table>\n",
       "</div>"
      ],
      "text/plain": [
       "        JoiningYear  PaymentTier       Age  ExperienceInCurrentDomain  \\\n",
       "Gender                                                                  \n",
       "Female  2015.090667     2.537600  29.41600                   2.889067   \n",
       "Male    2015.044276     2.806695  29.37797                   2.916847   \n",
       "\n",
       "        LeaveOrNot  \n",
       "Gender              \n",
       "Female    0.471467  \n",
       "Male      0.257739  "
      ]
     },
     "execution_count": 239,
     "metadata": {},
     "output_type": "execute_result"
    }
   ],
   "source": [
    "df_group_by_gender = df.groupby(\"Gender\")[numerical_features].mean()\n",
    "df_group_by_gender"
   ]
  },
  {
   "cell_type": "code",
   "execution_count": 242,
   "id": "a5c1a89e-1638-41d4-b529-253130e91bc2",
   "metadata": {},
   "outputs": [
    {
     "data": {
      "image/png": "[encoded data removed]",
      "text/plain": [
       "<Figure size 640x480 with 1 Axes>"
      ]
     },
     "metadata": {},
     "output_type": "display_data"
    }
   ],
   "source": [
    "index = [ \"Female\" , \"Male\" ]\n",
    "values = [ df_group_by_gender.loc[\"Female\"][\"LeaveOrNot\"] ,df_group_by_gender.loc[\"Male\"][\"LeaveOrNot\"]  ]\n",
    "plt.bar(index , values )\n",
    "plt.ylabel(\"mean of leave\")\n",
    "plt.show()"
   ]
  },
  {
   "cell_type": "markdown",
   "id": "265e00fb-26c6-40de-8cb8-c76e6704214f",
   "metadata": {},
   "source": [
    "### insight\n",
    "- around the 50% of females leaves the company"
   ]
  },
  {
   "cell_type": "markdown",
   "id": "b5c7203d-be52-4388-aa61-b61a2e67ebcf",
   "metadata": {},
   "source": [
    "### 4.4 boxplot"
   ]
  },
  {
   "cell_type": "code",
   "execution_count": 267,
   "id": "a37f699e-47cc-4113-aee6-91ab55d1abb3",
   "metadata": {},
   "outputs": [
    {
     "data": {
      "image/png": "[encoded data removed]",
      "text/plain": [
       "<Figure size 640x480 with 1 Axes>"
      ]
     },
     "metadata": {},
     "output_type": "display_data"
    },
    {
     "data": {
      "image/png": "[encoded data removed]",
      "text/plain": [
       "<Figure size 640x480 with 1 Axes>"
      ]
     },
     "metadata": {},
     "output_type": "display_data"
    },
    {
     "data": {
      "image/png": "[encoded data removed]",
      "text/plain": [
       "<Figure size 640x480 with 1 Axes>"
      ]
     },
     "metadata": {},
     "output_type": "display_data"
    }
   ],
   "source": [
    "\n",
    "for column in [ \"JoiningYear\", \"Age\" , \"ExperienceInCurrentDomain\"]:\n",
    "    sns.boxplot(y = df[column])\n",
    "    plt.title(f\"box plot de {column}\")\n",
    "    plt.show()\n",
    "#plt.boxplot(x = )"
   ]
  },
  {
   "cell_type": "markdown",
   "id": "e2dec888-3840-46af-b59f-e24df12308b8",
   "metadata": {},
   "source": [
    "eda end"
   ]
  }
 ],
 "metadata": {
  "kernelspec": {
   "display_name": "Python 3 (ipykernel)",
   "language": "python",
   "name": "python3"
  },
  "language_info": {
   "codemirror_mode": {
    "name": "ipython",
    "version": 3
   },
   "file_extension": ".py",
   "mimetype": "text/x-python",
   "name": "python",
   "nbconvert_exporter": "python",
   "pygments_lexer": "ipython3",
   "version": "3.10.15"
  }
 },
 "nbformat": 4,
 "nbformat_minor": 5
}
